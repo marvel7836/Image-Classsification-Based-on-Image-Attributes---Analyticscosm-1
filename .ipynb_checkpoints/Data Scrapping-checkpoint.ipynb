{
 "cells": [
  {
   "cell_type": "code",
   "execution_count": 216,
   "metadata": {
    "scrolled": true
   },
   "outputs": [],
   "source": [
    "import json\n",
    "from pprint import pprint\n",
    "import pandas as pd\n",
    "import numpy as np\n",
    "#data loading starts\n",
    "with open('vulgarsmemes.json',encoding=\"utf8\") as f:\n",
    "    data = json.load(f)\n",
    "#pprint(data['GraphImages'][0],indent=3)\n",
    "\n",
    "#data loading ends, cleaning starts\n",
    "\n",
    "train = pd.DataFrame.from_dict(data['GraphImages'])\n",
    "train=train[train['__typename']=='GraphImage']\n",
    "train['edge_media_preview_like']=train['edge_media_preview_like'].apply(lambda x: x['count'])\n",
    "train['edge_media_to_comment']=train['edge_media_to_comment'].apply(lambda x: x['count'])\n",
    "train['dimensions_height']=train['dimensions'].apply(lambda x: x['height'])\n",
    "train['dimensions_width']=train['dimensions'].apply(lambda x: x['width'])\n",
    "train.drop(['__typename','dimensions','gating_info','is_video','id','media_preview','thumbnail_resources','owner','thumbnail_src','video_view_count','urls'], axis=1,inplace=True)\n",
    "train['edge_media_to_caption']=train['edge_media_to_caption'].apply(lambda x: x['edges'])\n",
    "train=train[['shortcode','username','display_url','edge_media_preview_like','comments_disabled','edge_media_to_comment','dimensions_height','dimensions_width','edge_media_to_caption','tags','taken_at_timestamp']].reset_index()\n",
    "train.drop(['index'], axis=1,inplace=True)\n",
    "#train['tags'].fillna(0,inplace=True)"
   ]
  },
  {
   "cell_type": "code",
   "execution_count": 217,
   "metadata": {},
   "outputs": [],
   "source": [
    "#comment cleaning\n",
    "x=train.iloc[:,8:9].values.tolist()\n",
    "x=[val[0] for val in x ]\n",
    "modified_comments=[]\n",
    "for val in x:\n",
    "    if len(val)==0:\n",
    "        modified_comments.append('NEUTRAL')\n",
    "    else :\n",
    "        modified_comments.append(val[0]['node']['text'])\n",
    "\n",
    "train['edge_media_to_caption']=modified_comments\n",
    "train.to_csv(r'vulgarsmemes.csv')\n"
   ]
  },
  {
   "cell_type": "code",
   "execution_count": 218,
   "metadata": {},
   "outputs": [
    {
     "data": {
      "text/plain": [
       "[[nan],\n",
       " [nan],\n",
       " [nan],\n",
       " [nan],\n",
       " [nan],\n",
       " [nan],\n",
       " [nan],\n",
       " [nan],\n",
       " [nan],\n",
       " [nan],\n",
       " [nan],\n",
       " [nan],\n",
       " [nan],\n",
       " [nan],\n",
       " [nan],\n",
       " [nan],\n",
       " [nan],\n",
       " [nan],\n",
       " [nan],\n",
       " [nan],\n",
       " [nan],\n",
       " [nan],\n",
       " [nan],\n",
       " [nan],\n",
       " [nan],\n",
       " [nan],\n",
       " [nan],\n",
       " [nan],\n",
       " [nan],\n",
       " [nan],\n",
       " [nan],\n",
       " [nan],\n",
       " [nan],\n",
       " [nan],\n",
       " [nan],\n",
       " [nan],\n",
       " [nan],\n",
       " [nan],\n",
       " [nan],\n",
       " [nan],\n",
       " [nan],\n",
       " [nan],\n",
       " [nan],\n",
       " [nan],\n",
       " [nan],\n",
       " [nan],\n",
       " [nan],\n",
       " [nan],\n",
       " [nan],\n",
       " [nan],\n",
       " [nan],\n",
       " [nan],\n",
       " [[]],\n",
       " [nan],\n",
       " [nan],\n",
       " [nan],\n",
       " [nan],\n",
       " [nan],\n",
       " [nan],\n",
       " [nan],\n",
       " [nan],\n",
       " [nan],\n",
       " [nan],\n",
       " [nan],\n",
       " [nan],\n",
       " [nan],\n",
       " [nan],\n",
       " [nan],\n",
       " [nan],\n",
       " [nan],\n",
       " [nan],\n",
       " [nan],\n",
       " [nan],\n",
       " [nan],\n",
       " [nan],\n",
       " [nan],\n",
       " [nan],\n",
       " [nan],\n",
       " [nan],\n",
       " [nan],\n",
       " [nan],\n",
       " [nan],\n",
       " [nan],\n",
       " [nan],\n",
       " [nan],\n",
       " [nan],\n",
       " [nan],\n",
       " [nan],\n",
       " [nan],\n",
       " [nan],\n",
       " [nan],\n",
       " [nan],\n",
       " [nan],\n",
       " [nan],\n",
       " [nan],\n",
       " [nan]]"
      ]
     },
     "execution_count": 218,
     "metadata": {},
     "output_type": "execute_result"
    }
   ],
   "source": [
    "y=train.iloc[:,9:10].values.tolist()\n",
    "y"
   ]
  },
  {
   "cell_type": "markdown",
   "metadata": {},
   "source": [
    "Concat other csv files together"
   ]
  },
  {
   "cell_type": "code",
   "execution_count": null,
   "metadata": {},
   "outputs": [],
   "source": []
  }
 ],
 "metadata": {
  "kernelspec": {
   "display_name": "Python 3",
   "language": "python",
   "name": "python3"
  },
  "language_info": {
   "codemirror_mode": {
    "name": "ipython",
    "version": 3
   },
   "file_extension": ".py",
   "mimetype": "text/x-python",
   "name": "python",
   "nbconvert_exporter": "python",
   "pygments_lexer": "ipython3",
   "version": "3.7.3"
  }
 },
 "nbformat": 4,
 "nbformat_minor": 2
}
