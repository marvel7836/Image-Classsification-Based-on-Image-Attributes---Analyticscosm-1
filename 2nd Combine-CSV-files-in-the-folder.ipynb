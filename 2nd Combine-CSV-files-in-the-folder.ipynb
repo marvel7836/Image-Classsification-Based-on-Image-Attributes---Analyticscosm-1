{
 "cells": [
  {
   "cell_type": "markdown",
   "metadata": {},
   "source": [
    "# In this jupyter notebook we tried to combine individual user csv file to one csv file\n",
    "In this we put "
   ]
  },
  {
   "cell_type": "code",
   "execution_count": 1,
   "metadata": {},
   "outputs": [
    {
     "name": "stdout",
     "output_type": "stream",
     "text": [
      "['bigboytoyz_india.csv', 'bikewithgirl.csv', 'bmwindia_official.csv', 'bren_garage.csv', 'bullet_lovers_._.csv', 'deepak_chahar9.csv', 'fasbeam.csv', 'isro_india.csv', 'ktm_duke_love.csv', 'logicdetector.csv', 'narendramodi.csv', 'natgeotravel.csv', 'natgeoyourshot.csv', 'rdchahar1.csv', 'retrieverpuppies.csv', 'sadcasm.co.csv', 'sanjanasanghi96.csv', 'thasvy.csv', 'the.real.indian_stories.csv', 'thegoodquote.csv', 'things2doinmumbai.csv', 'vikaskhannagroup.csv', 'walkwithindia.csv', 'yourfoodlab.csv']\n"
     ]
    }
   ],
   "source": [
    "import os\n",
    "import glob\n",
    "import pandas as pd\n",
    "#set working directory\n",
    "os.chdir(\"C:\\\\Users\\\\NeilChaudhary\\\\training set half\")\n",
    "\n",
    "#find all csv files in the folder\n",
    "#use glob pattern matching -> extension = 'csv'\n",
    "#save result in list -> all_filenames\n",
    "extension = 'csv'\n",
    "//all_filenames = [i for i in glob.glob('*.{}'.format(extension))]\n",
    "//print(all_filenames)\n",
    "\n",
    "#combine all files in the list\n",
    "new_combined_csv = pd.concat([pd.read_csv(f) for f in all_filenames ])\n",
    "#export to csv\n",
    "new_combined_csv.to_csv( \"new_combined_csv.csv\", index=False, encoding='utf8')"
   ]
  }
 ],
 "metadata": {
  "kernelspec": {
   "display_name": "Python 3",
   "language": "python",
   "name": "python3"
  },
  "language_info": {
   "codemirror_mode": {
    "name": "ipython",
    "version": 3
   },
   "file_extension": ".py",
   "mimetype": "text/x-python",
   "name": "python",
   "nbconvert_exporter": "python",
   "pygments_lexer": "ipython3",
   "version": "3.7.3"
  }
 },
 "nbformat": 4,
 "nbformat_minor": 2
}
